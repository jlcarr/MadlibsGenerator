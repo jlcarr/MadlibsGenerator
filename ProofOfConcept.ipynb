{
 "cells": [
  {
   "cell_type": "markdown",
   "id": "e24bb251",
   "metadata": {},
   "source": [
    "# Madlib Generator: A Proof of Concept and Testground\n",
    "The idea here is it use Spacy's POS tagger and syntax tree parsing to automatically turn text into madlibs.  \n",
    "For example you could take the chorus of your favorite song and make a madlib out of it to send to play with your friends and get some quirkly twists on the lyrics."
   ]
  },
  {
   "cell_type": "markdown",
   "id": "c3417052",
   "metadata": {},
   "source": [
    "## References and Resources\n",
    "- https://en.wikipedia.org/wiki/Mad_Libs\n",
    "- https://spacy.io/usage/linguistic-features#pos-tagging\n",
    "- https://spacy.io/api/token\n",
    "- https://spacy.io/usage/visualizers#jupyter\n",
    "- Dependency parsing\n",
    "   - https://web.archive.org/web/20170809024928/http://www.mathcs.emory.edu/~choi/doc/clear-dependency-2012.pdf\n",
    "   - https://stackoverflow.com/questions/40288323/what-do-spacys-part-of-speech-and-dependency-tags-mean\n",
    "- https://universaldependencies.org/u/pos/\n",
    "- Addition Spacy Usage\n",
    "    - https://stackoverflow.com/questions/55453864/mapping-spacy-int-attributes-to-string-unicode-attributes\n",
    "    - https://stackoverflow.com/questions/62785916/spacy-replace-token\n",
    "    - https://pypi.org/project/pyinflect/\n",
    "    - https://machinelearningknowledge.ai/tutorial-on-spacy-part-of-speech-pos-tagging/\n",
    "    - https://web.archive.org/web/20170809024928/http://www.mathcs.emory.edu/~choi/doc/clear-dependency-2012.pdf"
   ]
  },
  {
   "cell_type": "markdown",
   "id": "896015f8",
   "metadata": {},
   "source": [
    "## The Code"
   ]
  },
  {
   "cell_type": "markdown",
   "id": "f3e39010",
   "metadata": {},
   "source": [
    "### Setup"
   ]
  },
  {
   "cell_type": "code",
   "execution_count": null,
   "id": "f22bd302",
   "metadata": {},
   "outputs": [],
   "source": [
    "import spacy\n",
    "import pyinflect\n",
    "from spacy import displacy\n",
    "nlp = spacy.load(\"en_core_web_sm\")"
   ]
  },
  {
   "cell_type": "code",
   "execution_count": null,
   "id": "cf32f72a",
   "metadata": {},
   "outputs": [],
   "source": [
    "def is_madlib(token):\n",
    "    if (token.pos_ == 'PROPN'):\n",
    "        return 0.9\n",
    "    if (token.pos_ == 'NUM'):\n",
    "        return 0.95\n",
    "    if (token.pos_ == 'ADV'):\n",
    "        return 0.9\n",
    "    if (token.pos_ == 'ADJ'):\n",
    "        return 0.9\n",
    "    if (token.dep_ == 'amod'):\n",
    "        return 0.7\n",
    "    if (token.pos_ == 'NOUN' and token.dep_ == 'dobj'):\n",
    "        return 0.4\n",
    "    if (token.pos_ == 'NOUN' and token.dep_ == 'pobj'):\n",
    "        return 0.5\n",
    "    if (token.pos_ == 'NOUN' and token.dep_ == 'nsubj'):\n",
    "        return 0.7\n",
    "    if (token.pos_ == 'NOUN' and token.dep_ == 'compound'):\n",
    "        return 0.1\n",
    "    if (token.pos_ == 'VERB' and not (token.dep_ == 'ccomp' or any([sub_token.dep_ == 'ccomp' for sub_token in token.subtree]))):\n",
    "        return 0.7\n",
    "    return 0.0"
   ]
  },
  {
   "cell_type": "markdown",
   "id": "d84ce1da",
   "metadata": {},
   "source": [
    "### Data Loading"
   ]
  },
  {
   "cell_type": "code",
   "execution_count": null,
   "id": "e86b9943",
   "metadata": {},
   "outputs": [],
   "source": [
    "text = \"\"\"Once upon a midnight dreary, as I pondered weak and weary,\n",
    "Over many a quaint and curious volume of forgotten lore\n",
    "While I nodded, nearly napping, suddenly there came a tapping,\n",
    "As of someone gently rapping, rapping at my chamber door.\"\"\"\n",
    "text = \"\"\"I am an invisible man. \n",
    "No, I am not a spook like those who haunted Edgar Allan Poe; nor am I one of your Hollywood-movie ectoplasms. \n",
    "I am a man of substance, of flesh and bone, fiber and liquids—and I might even be said to possess a mind. \n",
    "I am invisible, understand, simply because people refuse to see me. \n",
    "Like the bodiless heads you see sometimes in circus sideshows, it is as though I have been surrounded by mirrors of hard, distorting glass. \n",
    "When they approach me they see only my surroundings, themselves, or figments of their imagination—indeed, everything and anything except me.\"\"\"\n",
    "\n",
    "text = [line.strip() for line in text.splitlines()]\n",
    "text = ' '.join([line+'.' if line[-1] not in ('.',',') else line for line in text])\n",
    "text"
   ]
  },
  {
   "cell_type": "code",
   "execution_count": null,
   "id": "e3c21729",
   "metadata": {},
   "outputs": [],
   "source": [
    "doc = nlp(text)\n",
    "doc"
   ]
  },
  {
   "cell_type": "markdown",
   "id": "40adb49f",
   "metadata": {},
   "source": [
    "### Data Exploration"
   ]
  },
  {
   "cell_type": "code",
   "execution_count": null,
   "id": "1f86d05b",
   "metadata": {},
   "outputs": [],
   "source": [
    "displacy.render(doc, style=\"dep\")"
   ]
  },
  {
   "cell_type": "code",
   "execution_count": null,
   "id": "010e5bbe",
   "metadata": {},
   "outputs": [],
   "source": [
    "import pandas as pd\n",
    "df = pd.DataFrame([\n",
    "    {\n",
    "        'text': token.text,\n",
    "        'lemma': token.lemma_,\n",
    "        'POS': token.pos_,\n",
    "        'tag': token.tag_,\n",
    "        'dep': token.dep_,\n",
    "        'shape': token.shape_,\n",
    "        'is_alpha': token.is_alpha,\n",
    "        'is_stop': token.is_stop,\n",
    "        'madlib_prob': is_madlib(token)\n",
    "    }\n",
    "    for token in doc\n",
    "])\n",
    "df"
   ]
  },
  {
   "cell_type": "markdown",
   "id": "9afbf1a6",
   "metadata": {},
   "source": [
    "### Data Processing"
   ]
  },
  {
   "cell_type": "code",
   "execution_count": null,
   "id": "e42a8edf",
   "metadata": {},
   "outputs": [],
   "source": [
    "df.drop_duplicates(subset=['lemma','POS'], inplace=True)\n",
    "df"
   ]
  },
  {
   "cell_type": "code",
   "execution_count": null,
   "id": "196c903c",
   "metadata": {},
   "outputs": [],
   "source": [
    "import numpy as np\n",
    "df = df[df['madlib_prob'] > np.random.rand(len(df))]\n",
    "df.reset_index(inplace=True)\n",
    "df"
   ]
  },
  {
   "cell_type": "markdown",
   "id": "b56650ec",
   "metadata": {},
   "source": [
    "### UX and Input Required\n",
    "The result would say:"
   ]
  },
  {
   "cell_type": "code",
   "execution_count": null,
   "id": "92a6c159",
   "metadata": {},
   "outputs": [],
   "source": [
    "df['POS']"
   ]
  },
  {
   "cell_type": "markdown",
   "id": "b2b8c4f1",
   "metadata": {},
   "source": [
    "User would input:"
   ]
  },
  {
   "cell_type": "code",
   "execution_count": null,
   "id": "a65500ab",
   "metadata": {},
   "outputs": [],
   "source": [
    "replacements = [\n",
    "    \"flat\",\n",
    "    \"toe\",\n",
    "    \"curly\",\n",
    "    \"tripped\",\n",
    "    \"stretched\",\n",
    "    \"lazily\",\n",
    "    \"explosively\",\n",
    "    \"vomited\",\n",
    "    \"wildly\",\n",
    "    \"slapped\"\n",
    "]\n",
    "len(replacements)"
   ]
  },
  {
   "cell_type": "markdown",
   "id": "73eacf79",
   "metadata": {},
   "source": [
    "### Final Processing and Output"
   ]
  },
  {
   "cell_type": "code",
   "execution_count": null,
   "id": "76446253",
   "metadata": {},
   "outputs": [],
   "source": [
    "replacement_dict = {\n",
    "    (df.loc[i,'lemma'], df.loc[i,'POS']): word\n",
    "    for i,word in enumerate(replacements)\n",
    "}\n",
    "replacement_dict"
   ]
  },
  {
   "cell_type": "code",
   "execution_count": null,
   "id": "5afbb0a0",
   "metadata": {},
   "outputs": [],
   "source": [
    "result = ''\n",
    "for token in doc:\n",
    "    lemma, pos, tag = token.lemma_, token.pos_, token.tag_\n",
    "    if (lemma, pos) in replacement_dict:\n",
    "        base_replacement = replacement_dict[(lemma, pos)]\n",
    "        #print(base_replacement, tag)\n",
    "        if pos in ('PROPN', 'NUM'): \n",
    "            new_token = base_replacement\n",
    "        else:\n",
    "            new_token = nlp(base_replacement)[0]._.inflect(tag)\n",
    "            if not new_token:\n",
    "                new_token = base_replacement\n",
    "            if token.is_title:\n",
    "                new_token = new_token.title()\n",
    "        result += new_token\n",
    "    else:\n",
    "        result += str(token)\n",
    "    result += token.whitespace_\n",
    "print(result)"
   ]
  },
  {
   "cell_type": "code",
   "execution_count": null,
   "id": "6a770cfb",
   "metadata": {},
   "outputs": [],
   "source": []
  }
 ],
 "metadata": {
  "kernelspec": {
   "display_name": "Python 3",
   "language": "python",
   "name": "python3"
  },
  "language_info": {
   "codemirror_mode": {
    "name": "ipython",
    "version": 3
   },
   "file_extension": ".py",
   "mimetype": "text/x-python",
   "name": "python",
   "nbconvert_exporter": "python",
   "pygments_lexer": "ipython3",
   "version": "3.9.1"
  }
 },
 "nbformat": 4,
 "nbformat_minor": 5
}
